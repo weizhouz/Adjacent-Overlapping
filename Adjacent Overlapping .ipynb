{
 "cells": [
  {
   "cell_type": "code",
   "execution_count": 103,
   "metadata": {},
   "outputs": [],
   "source": [
    "#########Generate customers and vechicles \n",
    "import numpy as np\n",
    "import math\n",
    "N=20\n",
    "loc_x = np.random.uniform(0,100,N)\n",
    "loc_y = np.random.uniform(0,100,N)\n",
    "#print(loc_x)\n",
    "#print(loc_y)\n",
    "#calculate distance\n",
    "distance = np.zeros((N,N))\n",
    "for i in range(N):\n",
    "    for j in range(N):\n",
    "        dist = math.sqrt((loc_x[i]-loc_x[j])**2+(loc_y[i]-loc_y[j])**2)\n",
    "        distance[i][j] = dist\n",
    "#print(distance)\n",
    "dist=distance.tolist()\n",
    "Q=20\n",
    "M=4\n",
    "demand=np.random.uniform(0,8,N)\n",
    "#demand[0]=0\n",
    "dem=demand.tolist()\n",
    "cap=[Q]*M\n",
    "d=demand"
   ]
  },
  {
   "cell_type": "code",
   "execution_count": 104,
   "metadata": {},
   "outputs": [],
   "source": [
    "######Primary Route and label the customer in N ways\n",
    "from ortools.constraint_solver import routing_enums_pb2\n",
    "from ortools.constraint_solver import pywrapcp\n",
    "def create_data_model():\n",
    "    \"\"\"Stores the data for the problem.\"\"\"\n",
    "    data = {}\n",
    "    data['distance_matrix'] =dist\n",
    "    data['num_vehicles'] = 1\n",
    "    data['depot'] = 0\n",
    "    return data\n",
    "def print_solution(manager, routing, solution):\n",
    "    \"\"\"Prints solution on console.\"\"\"\n",
    "    print('Objective: {} miles'.format(solution.ObjectiveValue()))\n",
    "    index = routing.Start(0)\n",
    "    plan_output = 'Route for vehicle 0:\\n'\n",
    "    route_distance = 0\n",
    "    while not routing.IsEnd(index):\n",
    "        plan_output += ' {} ->'.format(manager.IndexToNode(index))\n",
    "        previous_index = index\n",
    "        index = solution.Value(routing.NextVar(index))\n",
    "        route_distance += routing.GetArcCostForVehicle(previous_index, index, 0)\n",
    "    plan_output += ' {}\\n'.format(manager.IndexToNode(index))\n",
    "    print(plan_output)\n",
    "    plan_output += 'Route distance: {}miles\\n'.format(route_distance)\n",
    "\n",
    "def get_routes(solution, routing, manager):\n",
    "    \n",
    "    routes = []\n",
    "    for route_nbr in range(routing.vehicles()):\n",
    "        \n",
    "        index = routing.Start(route_nbr)\n",
    "        route = [manager.IndexToNode(index)]\n",
    "        while not routing.IsEnd(index):\n",
    "            \n",
    "            index = solution.Value(routing.NextVar(index))\n",
    "            route.append(manager.IndexToNode(index))\n",
    "            routes.append(route)\n",
    "    return routes\n"
   ]
  },
  {
   "cell_type": "code",
   "execution_count": 105,
   "metadata": {},
   "outputs": [],
   "source": [
    "testdata=[]"
   ]
  },
  {
   "cell_type": "code",
   "execution_count": 106,
   "metadata": {},
   "outputs": [
    {
     "name": "stdout",
     "output_type": "stream",
     "text": [
      "Objective: 404 miles\n",
      "Route for vehicle 0:\n",
      " 0 -> 1 -> 17 -> 4 -> 5 -> 14 -> 12 -> 7 -> 10 -> 18 -> 15 -> 2 -> 13 -> 8 -> 6 -> 19 -> 16 -> 9 -> 3 -> 11 -> 0\n",
      "\n",
      "Objective: 415 miles\n",
      "Route for vehicle 0:\n",
      " 1 -> 0 -> 5 -> 14 -> 6 -> 11 -> 3 -> 9 -> 16 -> 19 -> 8 -> 13 -> 2 -> 15 -> 18 -> 10 -> 7 -> 12 -> 4 -> 17 -> 1\n",
      "\n",
      "Objective: 401 miles\n",
      "Route for vehicle 0:\n",
      " 2 -> 13 -> 8 -> 19 -> 16 -> 9 -> 3 -> 11 -> 0 -> 1 -> 17 -> 12 -> 4 -> 5 -> 14 -> 6 -> 7 -> 10 -> 18 -> 15 -> 2\n",
      "\n",
      "Objective: 401 miles\n",
      "Route for vehicle 0:\n",
      " 3 -> 11 -> 0 -> 1 -> 17 -> 12 -> 4 -> 5 -> 14 -> 6 -> 7 -> 10 -> 18 -> 15 -> 2 -> 13 -> 8 -> 19 -> 16 -> 9 -> 3\n",
      "\n",
      "Objective: 412 miles\n",
      "Route for vehicle 0:\n",
      " 4 -> 5 -> 0 -> 1 -> 17 -> 12 -> 7 -> 10 -> 18 -> 15 -> 2 -> 13 -> 8 -> 9 -> 3 -> 11 -> 16 -> 19 -> 6 -> 14 -> 4\n",
      "\n",
      "Objective: 411 miles\n",
      "Route for vehicle 0:\n",
      " 5 -> 0 -> 1 -> 17 -> 4 -> 12 -> 7 -> 10 -> 18 -> 15 -> 2 -> 13 -> 8 -> 9 -> 3 -> 11 -> 16 -> 19 -> 6 -> 14 -> 5\n",
      "\n",
      "Objective: 404 miles\n",
      "Route for vehicle 0:\n",
      " 6 -> 19 -> 16 -> 9 -> 3 -> 11 -> 0 -> 1 -> 17 -> 4 -> 5 -> 14 -> 12 -> 7 -> 10 -> 18 -> 15 -> 2 -> 13 -> 8 -> 6\n",
      "\n",
      "Objective: 401 miles\n",
      "Route for vehicle 0:\n",
      " 7 -> 10 -> 18 -> 15 -> 2 -> 13 -> 8 -> 19 -> 16 -> 9 -> 3 -> 11 -> 0 -> 1 -> 17 -> 12 -> 4 -> 5 -> 14 -> 6 -> 7\n",
      "\n",
      "Objective: 415 miles\n",
      "Route for vehicle 0:\n",
      " 8 -> 13 -> 2 -> 15 -> 18 -> 10 -> 7 -> 12 -> 4 -> 17 -> 1 -> 0 -> 5 -> 14 -> 6 -> 11 -> 3 -> 9 -> 16 -> 19 -> 8\n",
      "\n",
      "Objective: 401 miles\n",
      "Route for vehicle 0:\n",
      " 9 -> 16 -> 19 -> 8 -> 13 -> 2 -> 15 -> 18 -> 10 -> 7 -> 6 -> 14 -> 5 -> 4 -> 12 -> 17 -> 1 -> 0 -> 11 -> 3 -> 9\n",
      "\n",
      "Objective: 401 miles\n",
      "Route for vehicle 0:\n",
      " 10 -> 7 -> 6 -> 14 -> 5 -> 4 -> 12 -> 17 -> 1 -> 0 -> 11 -> 3 -> 9 -> 16 -> 19 -> 8 -> 13 -> 2 -> 15 -> 18 -> 10\n",
      "\n",
      "Objective: 411 miles\n",
      "Route for vehicle 0:\n",
      " 11 -> 16 -> 19 -> 6 -> 14 -> 5 -> 0 -> 1 -> 17 -> 4 -> 12 -> 7 -> 10 -> 18 -> 15 -> 2 -> 13 -> 8 -> 9 -> 3 -> 11\n",
      "\n",
      "Objective: 401 miles\n",
      "Route for vehicle 0:\n",
      " 12 -> 17 -> 1 -> 0 -> 11 -> 3 -> 9 -> 16 -> 19 -> 8 -> 13 -> 2 -> 15 -> 18 -> 10 -> 7 -> 6 -> 14 -> 5 -> 4 -> 12\n",
      "\n",
      "Objective: 415 miles\n",
      "Route for vehicle 0:\n",
      " 13 -> 2 -> 15 -> 18 -> 10 -> 7 -> 12 -> 4 -> 17 -> 1 -> 0 -> 5 -> 14 -> 6 -> 11 -> 3 -> 9 -> 16 -> 19 -> 8 -> 13\n",
      "\n",
      "Objective: 401 miles\n",
      "Route for vehicle 0:\n",
      " 14 -> 5 -> 4 -> 12 -> 17 -> 1 -> 0 -> 11 -> 3 -> 9 -> 16 -> 19 -> 8 -> 13 -> 2 -> 15 -> 18 -> 10 -> 7 -> 6 -> 14\n",
      "\n",
      "Objective: 401 miles\n",
      "Route for vehicle 0:\n",
      " 15 -> 18 -> 10 -> 7 -> 6 -> 14 -> 5 -> 4 -> 12 -> 17 -> 1 -> 0 -> 11 -> 3 -> 9 -> 16 -> 19 -> 8 -> 13 -> 2 -> 15\n",
      "\n",
      "Objective: 401 miles\n",
      "Route for vehicle 0:\n",
      " 16 -> 19 -> 8 -> 13 -> 2 -> 15 -> 18 -> 10 -> 7 -> 6 -> 14 -> 5 -> 4 -> 12 -> 17 -> 1 -> 0 -> 11 -> 3 -> 9 -> 16\n",
      "\n",
      "Objective: 404 miles\n",
      "Route for vehicle 0:\n",
      " 17 -> 4 -> 5 -> 14 -> 12 -> 7 -> 10 -> 18 -> 15 -> 2 -> 13 -> 8 -> 6 -> 19 -> 16 -> 9 -> 3 -> 11 -> 0 -> 1 -> 17\n",
      "\n",
      "Objective: 401 miles\n",
      "Route for vehicle 0:\n",
      " 18 -> 10 -> 7 -> 6 -> 14 -> 5 -> 4 -> 12 -> 17 -> 1 -> 0 -> 11 -> 3 -> 9 -> 16 -> 19 -> 8 -> 13 -> 2 -> 15 -> 18\n",
      "\n",
      "Objective: 401 miles\n",
      "Route for vehicle 0:\n",
      " 19 -> 16 -> 9 -> 3 -> 11 -> 0 -> 1 -> 17 -> 12 -> 4 -> 5 -> 14 -> 6 -> 7 -> 10 -> 18 -> 15 -> 2 -> 13 -> 8 -> 19\n",
      "\n"
     ]
    }
   ],
   "source": [
    " for i in range(0,N):\n",
    "    \n",
    "    def create_data_model():\n",
    "        data = {}\n",
    "        data['distance_matrix'] =dist\n",
    "        data['num_vehicles'] = 1\n",
    "        data['depot'] = i\n",
    "        return data\n",
    "    \n",
    "    data = create_data_model()\n",
    "\n",
    "    # Create the routing index manager.\n",
    "    manager = pywrapcp.RoutingIndexManager(len(data['distance_matrix']),\n",
    "                                           data['num_vehicles'], data['depot'])\n",
    "\n",
    "    # Create Routing Model.\n",
    "    routing = pywrapcp.RoutingModel(manager)\n",
    "\n",
    "\n",
    "    def distance_callback(from_index, to_index):\n",
    "        \n",
    "        from_node = manager.IndexToNode(from_index)\n",
    "        to_node = manager.IndexToNode(to_index)\n",
    "        return data['distance_matrix'][from_node][to_node]\n",
    "\n",
    "    transit_callback_index = routing.RegisterTransitCallback(distance_callback)\n",
    "\n",
    "    # Define cost of each arc.\n",
    "    routing.SetArcCostEvaluatorOfAllVehicles(transit_callback_index)\n",
    "\n",
    "    # Setting first solution heuristic.\n",
    "    search_parameters = pywrapcp.DefaultRoutingSearchParameters()\n",
    "    search_parameters.first_solution_strategy = (\n",
    "        routing_enums_pb2.FirstSolutionStrategy.PATH_CHEAPEST_ARC)\n",
    "\n",
    "    # Solve the problem.\n",
    "    solution = routing.SolveWithParameters(search_parameters)\n",
    "\n",
    "    # Print solution on console.\n",
    "    if solution:\n",
    "        print_solution(manager, routing, solution)\n",
    "        \n",
    "    routes = get_routes(solution, routing, manager)\n",
    "    temp = list(set(tuple(x) for x in routes))\n",
    "    testdata.append(temp)"
   ]
  },
  {
   "cell_type": "code",
   "execution_count": 107,
   "metadata": {},
   "outputs": [],
   "source": [
    "new=tuple()\n",
    "for i in range(len(testdata)):\n",
    "    temp=testdata[i]\n",
    "    for j in range(len(temp)):\n",
    "        new=new+tuple(j for j in temp)\n",
    "        "
   ]
  },
  {
   "cell_type": "code",
   "execution_count": 108,
   "metadata": {},
   "outputs": [],
   "source": [
    "\n",
    "testdata=new"
   ]
  },
  {
   "cell_type": "code",
   "execution_count": 139,
   "metadata": {},
   "outputs": [],
   "source": [
    "#split customers to vechicles \n",
    "ans=[testdata[2][i:i + 5] for i in range(0, len(testdata[0]), 5)]\n",
    "ans=ans[0:5-1]"
   ]
  },
  {
   "cell_type": "code",
   "execution_count": 140,
   "metadata": {},
   "outputs": [],
   "source": [
    "newd=testdata[2][0:20]\n",
    "dnew = [d[i] for i in newd]\n",
    "dnew=np.array(dnew)"
   ]
  },
  {
   "cell_type": "code",
   "execution_count": 141,
   "metadata": {},
   "outputs": [
    {
     "data": {
      "text/plain": [
       "20"
      ]
     },
     "execution_count": 141,
     "metadata": {},
     "output_type": "execute_result"
    }
   ],
   "source": [
    "len(testdata[2][0:20])"
   ]
  },
  {
   "cell_type": "code",
   "execution_count": 142,
   "metadata": {},
   "outputs": [],
   "source": [
    "\n",
    "n=int(N/M)\n",
    "s= [None] * M\n",
    "w= [None] * M\n",
    "e= [None] * M\n",
    "ee= [None] * M\n",
    "cn=np.arange(n)\n",
    "d=dnew\n"
   ]
  },
  {
   "cell_type": "code",
   "execution_count": 143,
   "metadata": {},
   "outputs": [],
   "source": [
    "s[0]=0\n",
    "w[0]=sum(d[cn])\n",
    "e[0]=math.ceil(w[0]/Q)*Q-w[0]\n",
    "cn=cn+n\n",
    "ee[0]=min(e[0],sum(d[cn]))\n",
    "for i in range(n):\n",
    "    temp=d[cn]\n",
    "    if sum(temp[:i+1])>ee[0]:\n",
    "        s[1]=i+n\n",
    "        break"
   ]
  },
  {
   "cell_type": "code",
   "execution_count": 144,
   "metadata": {},
   "outputs": [],
   "source": [
    "cn=np.arange(n)\n",
    "for j in range(1,M-1):\n",
    "    if max(cn) < N-1:\n",
    "        cn=cn+n\n",
    "    w[j]=sum(d[cn])-e[j-1]\n",
    "    if w[j]<0:\n",
    "        w[j]=0\n",
    "    e[j]=math.ceil(w[j]/Q)*Q-w[j]\n",
    "    if max(cn) < N-1:\n",
    "        cn=cn+n\n",
    "    ee[j]=min(e[j],sum(d[cn]))\n",
    "  \n",
    "    temp=d[cn]\n",
    "    start=(j+1)*n\n",
    "    end=start+n-1\n",
    "    res=np.arange(start,end+1,1)\n",
    "    for i in range(n):\n",
    "        if sum(temp[:i+1])>ee[j]:\n",
    "            s[j+1]=res[i]\n",
    "            break\n",
    "    "
   ]
  },
  {
   "cell_type": "code",
   "execution_count": 145,
   "metadata": {},
   "outputs": [
    {
     "name": "stdout",
     "output_type": "stream",
     "text": [
      "[11.480485537753818, 4.925324655944564, 8.775392729823345, None]\n",
      "[11.480485537753818, 4.925324655944564, 8.775392729823345, None]\n",
      "[28.519514462246182, 15.074675344055436, 11.224607270176655, None]\n",
      "[0, 7, 10, 18]\n"
     ]
    }
   ],
   "source": [
    "print(e)\n",
    "print(ee)\n",
    "print(w)\n",
    "print(s)"
   ]
  },
  {
   "cell_type": "code",
   "execution_count": 146,
   "metadata": {},
   "outputs": [],
   "source": [
    "###########fill the last element###########\n",
    "end=N\n",
    "start=N-n\n",
    "#print(d[start:N])\n",
    "w[-1]=sum(d[start:end])-e[-2]\n",
    "if w[-1] <0:\n",
    "    w[-1]=0\n",
    "e[-1]=math.ceil(w[-1]/Q)*Q-w[-1]\n",
    "ee[-1]=0"
   ]
  },
  {
   "cell_type": "code",
   "execution_count": 147,
   "metadata": {},
   "outputs": [],
   "source": [
    "#######get dd\n",
    "dd=[None]*N\n",
    "for j in range(M):\n",
    "    if j==0:\n",
    "        dd[0]=d[s[0]]\n",
    "    else:\n",
    "        if e[j-1]==0:\n",
    "            dd[s[j]]=d[s[j]]\n",
    "        else:\n",
    "            start=j*n\n",
    "            end=s[j]+1\n",
    "            dd[s[j]]=sum(d[start:end])-ee[j-1]"
   ]
  },
  {
   "cell_type": "code",
   "execution_count": 148,
   "metadata": {},
   "outputs": [],
   "source": [
    "##########insert the depot position and recalculate the dist matrix\n",
    "test=loc_x\n",
    "test2=loc_y\n",
    "depot=np.array(50)\n",
    "new_x = np.append (depot, test)\n",
    "new_y = np.append (depot, test2)\n",
    "new_x=new_x[1:len(new_x)]\n",
    "new_y=new_y[1:len(new_y)]"
   ]
  },
  {
   "cell_type": "code",
   "execution_count": 149,
   "metadata": {},
   "outputs": [],
   "source": [
    "newdist = np.zeros((len(new_x),len(new_y)))\n",
    "for i in range(len(new_x)):\n",
    "    for j in range(len(new_y)):\n",
    "        dist = math.sqrt((new_x[i]-new_x[j])**2+(new_y[i]-new_y[j])**2)\n",
    "        newdist[i][j] = dist\n",
    "               "
   ]
  },
  {
   "cell_type": "code",
   "execution_count": 150,
   "metadata": {},
   "outputs": [],
   "source": [
    "##########generate extended route\n",
    "def extend(M,n,lst):\n",
    "    res=[]\n",
    "    for i in range(M):\n",
    "        j=i+1\n",
    "        if i==0:\n",
    "            a=list(range((j-1)*n,(j+1)*n)) #####index\n",
    "            res.append(a)\n",
    "        elif i==M-1:\n",
    "            a=list(range((j-1)*n,j*n))\n",
    "            res.append(a)\n",
    "        else:\n",
    "            m=j\n",
    "            nn=j+1\n",
    "            one=list(range((m-1)*n,m*n))\n",
    "            two=list(range((nn-1)*n,nn*n))\n",
    "            out=one+two #######actual labeled customer \n",
    "            res.append(out)    \n",
    "    return res\n",
    "            \n",
    "    "
   ]
  },
  {
   "cell_type": "code",
   "execution_count": 151,
   "metadata": {},
   "outputs": [
    {
     "data": {
      "text/plain": [
       "[[0, 1, 2, 3, 4, 5, 6, 7, 8, 9],\n",
       " [5, 6, 7, 8, 9, 10, 11, 12, 13, 14],\n",
       " [10, 11, 12, 13, 14, 15, 16, 17, 18, 19],\n",
       " [15, 16, 17, 18, 19]]"
      ]
     },
     "execution_count": 151,
     "metadata": {},
     "output_type": "execute_result"
    }
   ],
   "source": [
    "get=extend(4,5,ans) \n",
    "get"
   ]
  },
  {
   "cell_type": "code",
   "execution_count": 152,
   "metadata": {},
   "outputs": [],
   "source": [
    "travel=[None]*M\n",
    "for i in range(M):\n",
    "    cn=0\n",
    "    path=max(get[i])\n",
    "    pos=0\n",
    "    if w[i]>0:\n",
    "        cn=dd[s[i]]\n",
    "        then=s[i]+1      ######find the index of demand \n",
    "        cn=cn+d[then]\n",
    "        pos=s[i]+1\n",
    "        #print(pos)\n",
    "        while round(cn,2)< round(w[i]+ee[i],2):\n",
    "            pos=pos+1\n",
    "            #print(pos)\n",
    "            cn=cn+d[pos]\n",
    "        travel[i]=pos"
   ]
  },
  {
   "cell_type": "code",
   "execution_count": 123,
   "metadata": {},
   "outputs": [
    {
     "data": {
      "text/plain": [
       "[7, 12, 16, 19]"
      ]
     },
     "execution_count": 123,
     "metadata": {},
     "output_type": "execute_result"
    }
   ],
   "source": [
    "travel"
   ]
  },
  {
   "cell_type": "code",
   "execution_count": 153,
   "metadata": {},
   "outputs": [
    {
     "data": {
      "text/plain": [
       "7.374539196297876"
      ]
     },
     "execution_count": 153,
     "metadata": {},
     "output_type": "execute_result"
    }
   ],
   "source": [
    "#######generate the "
   ]
  },
  {
   "cell_type": "code",
   "execution_count": 154,
   "metadata": {},
   "outputs": [
    {
     "data": {
      "text/plain": [
       "7.374539196297874"
      ]
     },
     "execution_count": 154,
     "metadata": {},
     "output_type": "execute_result"
    }
   ],
   "source": [
    "w[i]+ee[i]"
   ]
  },
  {
   "cell_type": "code",
   "execution_count": null,
   "metadata": {},
   "outputs": [],
   "source": []
  }
 ],
 "metadata": {
  "kernelspec": {
   "display_name": "Python 3",
   "language": "python",
   "name": "python3"
  },
  "language_info": {
   "codemirror_mode": {
    "name": "ipython",
    "version": 3
   },
   "file_extension": ".py",
   "mimetype": "text/x-python",
   "name": "python",
   "nbconvert_exporter": "python",
   "pygments_lexer": "ipython3",
   "version": "3.8.5"
  }
 },
 "nbformat": 4,
 "nbformat_minor": 4
}
