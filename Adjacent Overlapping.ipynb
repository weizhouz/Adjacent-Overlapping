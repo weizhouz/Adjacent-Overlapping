{
 "cells": [
  {
   "cell_type": "code",
   "execution_count": 411,
   "metadata": {},
   "outputs": [],
   "source": [
    "#########Generate customers and vechicles \n",
    "import numpy as np\n",
    "import math\n",
    "N=20\n",
    "loc_x = np.random.uniform(0,100,N)\n",
    "loc_y = np.random.uniform(0,100,N)\n",
    "#print(loc_x)\n",
    "#print(loc_y)\n",
    "#calculate distance\n",
    "distance = np.zeros((N,N))\n",
    "for i in range(N):\n",
    "    for j in range(N):\n",
    "        dist = math.sqrt((loc_x[i]-loc_x[j])**2+(loc_y[i]-loc_y[j])**2)\n",
    "        distance[i][j] = dist\n",
    "#print(distance)\n",
    "dist=distance.tolist()\n",
    "Q=20\n",
    "M=4\n",
    "demand=np.random.uniform(0,8,N)\n",
    "#demand[0]=0\n",
    "dem=demand.tolist()\n",
    "cap=[Q]*M\n",
    "d=demand"
   ]
  },
  {
   "cell_type": "code",
   "execution_count": 412,
   "metadata": {},
   "outputs": [],
   "source": [
    "######Primary Route and label the customer in N ways\n",
    "from ortools.constraint_solver import routing_enums_pb2\n",
    "from ortools.constraint_solver import pywrapcp\n",
    "def create_data_model():\n",
    "    \"\"\"Stores the data for the problem.\"\"\"\n",
    "    data = {}\n",
    "    data['distance_matrix'] =dist\n",
    "    data['num_vehicles'] = 1\n",
    "    data['depot'] = 0\n",
    "    return data\n",
    "def print_solution(manager, routing, solution):\n",
    "    \"\"\"Prints solution on console.\"\"\"\n",
    "    print('Objective: {} miles'.format(solution.ObjectiveValue()))\n",
    "    index = routing.Start(0)\n",
    "    plan_output = 'Route for vehicle 0:\\n'\n",
    "    route_distance = 0\n",
    "    while not routing.IsEnd(index):\n",
    "        plan_output += ' {} ->'.format(manager.IndexToNode(index))\n",
    "        previous_index = index\n",
    "        index = solution.Value(routing.NextVar(index))\n",
    "        route_distance += routing.GetArcCostForVehicle(previous_index, index, 0)\n",
    "    plan_output += ' {}\\n'.format(manager.IndexToNode(index))\n",
    "    print(plan_output)\n",
    "    plan_output += 'Route distance: {}miles\\n'.format(route_distance)\n",
    "\n",
    "def get_routes(solution, routing, manager):\n",
    "    \n",
    "    routes = []\n",
    "    for route_nbr in range(routing.vehicles()):\n",
    "        \n",
    "        index = routing.Start(route_nbr)\n",
    "        route = [manager.IndexToNode(index)]\n",
    "        while not routing.IsEnd(index):\n",
    "            \n",
    "            index = solution.Value(routing.NextVar(index))\n",
    "            route.append(manager.IndexToNode(index))\n",
    "            routes.append(route)\n",
    "    return routes\n"
   ]
  },
  {
   "cell_type": "code",
   "execution_count": 413,
   "metadata": {},
   "outputs": [],
   "source": [
    "testdata=[]"
   ]
  },
  {
   "cell_type": "code",
   "execution_count": 414,
   "metadata": {},
   "outputs": [
    {
     "name": "stdout",
     "output_type": "stream",
     "text": [
      "Objective: 418 miles\n",
      "Route for vehicle 0:\n",
      " 0 -> 12 -> 16 -> 14 -> 9 -> 2 -> 4 -> 6 -> 15 -> 10 -> 17 -> 19 -> 13 -> 7 -> 1 -> 18 -> 3 -> 8 -> 11 -> 5 -> 0\n",
      "\n",
      "Objective: 403 miles\n",
      "Route for vehicle 0:\n",
      " 1 -> 7 -> 13 -> 19 -> 17 -> 10 -> 0 -> 15 -> 6 -> 12 -> 4 -> 2 -> 9 -> 14 -> 16 -> 5 -> 11 -> 8 -> 3 -> 18 -> 1\n",
      "\n",
      "Objective: 403 miles\n",
      "Route for vehicle 0:\n",
      " 2 -> 9 -> 14 -> 16 -> 5 -> 11 -> 8 -> 3 -> 18 -> 1 -> 7 -> 13 -> 19 -> 17 -> 10 -> 0 -> 15 -> 6 -> 12 -> 4 -> 2\n",
      "\n",
      "Objective: 403 miles\n",
      "Route for vehicle 0:\n",
      " 3 -> 8 -> 11 -> 5 -> 16 -> 14 -> 9 -> 2 -> 4 -> 12 -> 6 -> 15 -> 0 -> 10 -> 17 -> 19 -> 13 -> 7 -> 1 -> 18 -> 3\n",
      "\n",
      "Objective: 403 miles\n",
      "Route for vehicle 0:\n",
      " 4 -> 2 -> 9 -> 14 -> 16 -> 5 -> 11 -> 8 -> 3 -> 18 -> 1 -> 7 -> 13 -> 19 -> 17 -> 10 -> 0 -> 15 -> 6 -> 12 -> 4\n",
      "\n",
      "Objective: 418 miles\n",
      "Route for vehicle 0:\n",
      " 5 -> 11 -> 8 -> 3 -> 18 -> 1 -> 7 -> 13 -> 19 -> 17 -> 10 -> 15 -> 6 -> 4 -> 2 -> 9 -> 14 -> 16 -> 12 -> 0 -> 5\n",
      "\n",
      "Objective: 403 miles\n",
      "Route for vehicle 0:\n",
      " 6 -> 12 -> 4 -> 2 -> 9 -> 14 -> 16 -> 5 -> 11 -> 8 -> 3 -> 18 -> 1 -> 7 -> 13 -> 19 -> 17 -> 10 -> 0 -> 15 -> 6\n",
      "\n",
      "Objective: 403 miles\n",
      "Route for vehicle 0:\n",
      " 7 -> 1 -> 18 -> 3 -> 8 -> 11 -> 5 -> 16 -> 14 -> 9 -> 2 -> 4 -> 12 -> 6 -> 15 -> 0 -> 10 -> 17 -> 19 -> 13 -> 7\n",
      "\n",
      "Objective: 418 miles\n",
      "Route for vehicle 0:\n",
      " 8 -> 3 -> 18 -> 1 -> 7 -> 13 -> 19 -> 17 -> 10 -> 15 -> 6 -> 4 -> 2 -> 9 -> 14 -> 16 -> 12 -> 0 -> 5 -> 11 -> 8\n",
      "\n",
      "Objective: 403 miles\n",
      "Route for vehicle 0:\n",
      " 9 -> 2 -> 4 -> 12 -> 6 -> 15 -> 0 -> 10 -> 17 -> 19 -> 13 -> 7 -> 1 -> 18 -> 3 -> 8 -> 11 -> 5 -> 16 -> 14 -> 9\n",
      "\n",
      "Objective: 403 miles\n",
      "Route for vehicle 0:\n",
      " 10 -> 17 -> 19 -> 13 -> 7 -> 1 -> 18 -> 3 -> 8 -> 11 -> 5 -> 16 -> 14 -> 9 -> 2 -> 4 -> 12 -> 6 -> 15 -> 0 -> 10\n",
      "\n",
      "Objective: 403 miles\n",
      "Route for vehicle 0:\n",
      " 11 -> 5 -> 16 -> 14 -> 9 -> 2 -> 4 -> 12 -> 6 -> 15 -> 0 -> 10 -> 17 -> 19 -> 13 -> 7 -> 1 -> 18 -> 3 -> 8 -> 11\n",
      "\n",
      "Objective: 418 miles\n",
      "Route for vehicle 0:\n",
      " 12 -> 16 -> 14 -> 9 -> 2 -> 4 -> 6 -> 15 -> 10 -> 17 -> 19 -> 13 -> 7 -> 1 -> 18 -> 3 -> 8 -> 11 -> 5 -> 0 -> 12\n",
      "\n",
      "Objective: 403 miles\n",
      "Route for vehicle 0:\n",
      " 13 -> 19 -> 17 -> 10 -> 0 -> 15 -> 6 -> 12 -> 4 -> 2 -> 9 -> 14 -> 16 -> 5 -> 11 -> 8 -> 3 -> 18 -> 1 -> 7 -> 13\n",
      "\n",
      "Objective: 403 miles\n",
      "Route for vehicle 0:\n",
      " 14 -> 16 -> 5 -> 11 -> 8 -> 3 -> 18 -> 1 -> 7 -> 13 -> 19 -> 17 -> 10 -> 0 -> 15 -> 6 -> 12 -> 4 -> 2 -> 9 -> 14\n",
      "\n",
      "Objective: 403 miles\n",
      "Route for vehicle 0:\n",
      " 15 -> 6 -> 12 -> 4 -> 2 -> 9 -> 14 -> 16 -> 5 -> 11 -> 8 -> 3 -> 18 -> 1 -> 7 -> 13 -> 19 -> 17 -> 10 -> 0 -> 15\n",
      "\n",
      "Objective: 418 miles\n",
      "Route for vehicle 0:\n",
      " 16 -> 14 -> 9 -> 2 -> 4 -> 6 -> 15 -> 10 -> 17 -> 19 -> 13 -> 7 -> 1 -> 18 -> 3 -> 8 -> 11 -> 5 -> 0 -> 12 -> 16\n",
      "\n",
      "Objective: 403 miles\n",
      "Route for vehicle 0:\n",
      " 17 -> 10 -> 0 -> 15 -> 6 -> 12 -> 4 -> 2 -> 9 -> 14 -> 16 -> 5 -> 11 -> 8 -> 3 -> 18 -> 1 -> 7 -> 13 -> 19 -> 17\n",
      "\n",
      "Objective: 403 miles\n",
      "Route for vehicle 0:\n",
      " 18 -> 1 -> 7 -> 13 -> 19 -> 17 -> 10 -> 0 -> 15 -> 6 -> 12 -> 4 -> 2 -> 9 -> 14 -> 16 -> 5 -> 11 -> 8 -> 3 -> 18\n",
      "\n",
      "Objective: 403 miles\n",
      "Route for vehicle 0:\n",
      " 19 -> 13 -> 7 -> 1 -> 18 -> 3 -> 8 -> 11 -> 5 -> 16 -> 14 -> 9 -> 2 -> 4 -> 12 -> 6 -> 15 -> 0 -> 10 -> 17 -> 19\n",
      "\n"
     ]
    }
   ],
   "source": [
    " for i in range(0,N):\n",
    "    \n",
    "    def create_data_model():\n",
    "        data = {}\n",
    "        data['distance_matrix'] =dist\n",
    "        data['num_vehicles'] = 1\n",
    "        data['depot'] = i\n",
    "        return data\n",
    "    \n",
    "    data = create_data_model()\n",
    "\n",
    "    # Create the routing index manager.\n",
    "    manager = pywrapcp.RoutingIndexManager(len(data['distance_matrix']),\n",
    "                                           data['num_vehicles'], data['depot'])\n",
    "\n",
    "    # Create Routing Model.\n",
    "    routing = pywrapcp.RoutingModel(manager)\n",
    "\n",
    "\n",
    "    def distance_callback(from_index, to_index):\n",
    "        \n",
    "        from_node = manager.IndexToNode(from_index)\n",
    "        to_node = manager.IndexToNode(to_index)\n",
    "        return data['distance_matrix'][from_node][to_node]\n",
    "\n",
    "    transit_callback_index = routing.RegisterTransitCallback(distance_callback)\n",
    "\n",
    "    # Define cost of each arc.\n",
    "    routing.SetArcCostEvaluatorOfAllVehicles(transit_callback_index)\n",
    "\n",
    "    # Setting first solution heuristic.\n",
    "    search_parameters = pywrapcp.DefaultRoutingSearchParameters()\n",
    "    search_parameters.first_solution_strategy = (\n",
    "        routing_enums_pb2.FirstSolutionStrategy.PATH_CHEAPEST_ARC)\n",
    "\n",
    "    # Solve the problem.\n",
    "    solution = routing.SolveWithParameters(search_parameters)\n",
    "\n",
    "    # Print solution on console.\n",
    "    if solution:\n",
    "        print_solution(manager, routing, solution)\n",
    "        \n",
    "    routes = get_routes(solution, routing, manager)\n",
    "    temp = list(set(tuple(x) for x in routes))\n",
    "    testdata.append(temp)"
   ]
  },
  {
   "cell_type": "code",
   "execution_count": 415,
   "metadata": {},
   "outputs": [],
   "source": [
    "new=tuple()\n",
    "for i in range(len(testdata)):\n",
    "    temp=testdata[i]\n",
    "    for j in range(len(temp)):\n",
    "        new=new+tuple(j for j in temp)\n",
    "        "
   ]
  },
  {
   "cell_type": "code",
   "execution_count": 416,
   "metadata": {},
   "outputs": [],
   "source": [
    "\n",
    "testdata=new"
   ]
  },
  {
   "cell_type": "code",
   "execution_count": 431,
   "metadata": {},
   "outputs": [],
   "source": [
    "#split customers to vechicles \n",
    "ans=[testdata[0][i:i + 5] for i in range(0, len(testdata[0]), 5)]\n",
    "ans=ans[0:5-1]"
   ]
  },
  {
   "cell_type": "code",
   "execution_count": 432,
   "metadata": {},
   "outputs": [],
   "source": [
    "newd=testdata[0][0:20]\n",
    "dnew = [d[i] for i in newd]\n",
    "dnew=np.array(dnew)"
   ]
  },
  {
   "cell_type": "code",
   "execution_count": null,
   "metadata": {},
   "outputs": [],
   "source": []
  },
  {
   "cell_type": "code",
   "execution_count": 441,
   "metadata": {},
   "outputs": [],
   "source": [
    "\n",
    "n=int(N/M)\n",
    "s= [None] * M\n",
    "w= [None] * M\n",
    "e= [None] * M\n",
    "ee= [None] * M\n",
    "cn=np.arange(n)\n",
    "d=dnew\n"
   ]
  },
  {
   "cell_type": "code",
   "execution_count": 442,
   "metadata": {},
   "outputs": [],
   "source": [
    "s[0]=0\n",
    "w[0]=sum(d[cn])\n",
    "e[0]=math.ceil(w[0]/Q)*Q-w[0]\n",
    "cn=cn+n\n",
    "ee[0]=min(e[0],sum(d[cn]))\n",
    "for i in range(n):\n",
    "    temp=d[cn]\n",
    "    if sum(temp[:i+1])>ee[0]:\n",
    "        s[1]=i+n\n",
    "        break"
   ]
  },
  {
   "cell_type": "code",
   "execution_count": 443,
   "metadata": {},
   "outputs": [],
   "source": [
    "cn=np.arange(n)\n",
    "for j in range(1,M-1):\n",
    "    if max(cn) < N-1:\n",
    "        cn=cn+n\n",
    "    w[j]=sum(d[cn])-e[j-1]\n",
    "    if w[j]<0:\n",
    "        w[j]=0\n",
    "    e[j]=math.ceil(w[j]/Q)*Q-w[j]\n",
    "    if max(cn) < N-1:\n",
    "        cn=cn+n\n",
    "    ee[j]=min(e[j],sum(d[cn]))\n",
    "  \n",
    "    temp=d[cn]\n",
    "    start=(j+1)*n\n",
    "    end=start+n-1\n",
    "    res=np.arange(start,end+1,1)\n",
    "    for i in range(n):\n",
    "        if sum(temp[:i+1])>=ee[j]:\n",
    "            s[j+1]=res[i]\n",
    "            break\n",
    "            \n",
    "    "
   ]
  },
  {
   "cell_type": "code",
   "execution_count": 444,
   "metadata": {},
   "outputs": [
    {
     "name": "stdout",
     "output_type": "stream",
     "text": [
      "[19.72774196494349, 19.784612502125366, 16.354484030860167, None]\n",
      "[19.72774196494349, 19.358342677914717, 16.354484030860167, None]\n",
      "[20.27225803505651, 0.21538749787463374, 3.645515969139833, None]\n",
      "[0, 9, 14, 18]\n"
     ]
    }
   ],
   "source": [
    "print(e)\n",
    "print(ee)\n",
    "print(w)\n",
    "print(s)"
   ]
  },
  {
   "cell_type": "code",
   "execution_count": 445,
   "metadata": {},
   "outputs": [
    {
     "data": {
      "text/plain": [
       "array([0.31811489, 3.66465645, 4.97919191, 5.85340791, 5.45688687,\n",
       "       1.95101024, 6.96508934, 2.21031378, 1.5613591 , 7.255357  ,\n",
       "       1.70771047, 3.05614036, 7.30664752, 4.78686424, 2.50098009,\n",
       "       6.30373612, 4.14563507, 2.90761884, 3.62678577, 6.44635266])"
      ]
     },
     "execution_count": 445,
     "metadata": {},
     "output_type": "execute_result"
    }
   ],
   "source": [
    "dnew"
   ]
  },
  {
   "cell_type": "code",
   "execution_count": 446,
   "metadata": {},
   "outputs": [],
   "source": [
    "###########fill the last element###########\n",
    "end=N\n",
    "start=N-n\n",
    "#print(d[start:N])\n",
    "w[-1]=sum(d[start:end])-e[-2]\n",
    "if w[-1] <0:\n",
    "    w[-1]=0\n",
    "e[-1]=math.ceil(w[-1]/Q)*Q-w[-1]\n",
    "ee[-1]=0"
   ]
  },
  {
   "cell_type": "code",
   "execution_count": 447,
   "metadata": {},
   "outputs": [],
   "source": [
    "#######get dd\n",
    "dd=[None]*N\n",
    "for j in range(M):\n",
    "    if j==0:\n",
    "        dd[0]=d[s[0]]\n",
    "    else:\n",
    "        if e[j-1]==0:\n",
    "            dd[s[j]]=d[s[j]]\n",
    "        else:\n",
    "            start=j*n\n",
    "            end=s[j]+1\n",
    "            dd[s[j]]=sum(d[start:end])-ee[j-1]"
   ]
  },
  {
   "cell_type": "code",
   "execution_count": 448,
   "metadata": {},
   "outputs": [],
   "source": [
    "##########generate extended route\n",
    "def extend(M,n,lst):\n",
    "    res=[]\n",
    "    for i in range(M):\n",
    "        j=i+1\n",
    "        if i==0:\n",
    "            a=list(range((j-1)*n,(j+1)*n)) #####index\n",
    "            res.append(a)\n",
    "        elif i==M-1:\n",
    "            a=list(range((j-1)*n,j*n))\n",
    "            res.append(a)\n",
    "        else:\n",
    "            m=j\n",
    "            nn=j+1\n",
    "            one=list(range((m-1)*n,m*n))\n",
    "            two=list(range((nn-1)*n,nn*n))\n",
    "            out=one+two #######actual labeled customer \n",
    "            res.append(out)    \n",
    "    return res\n",
    "            \n",
    "    "
   ]
  },
  {
   "cell_type": "code",
   "execution_count": 449,
   "metadata": {},
   "outputs": [
    {
     "data": {
      "text/plain": [
       "[[0, 1, 2, 3, 4, 5, 6, 7, 8, 9],\n",
       " [5, 6, 7, 8, 9, 10, 11, 12, 13, 14],\n",
       " [10, 11, 12, 13, 14, 15, 16, 17, 18, 19],\n",
       " [15, 16, 17, 18, 19]]"
      ]
     },
     "execution_count": 449,
     "metadata": {},
     "output_type": "execute_result"
    }
   ],
   "source": [
    "get=extend(4,5,ans) \n",
    "get"
   ]
  },
  {
   "cell_type": "code",
   "execution_count": 450,
   "metadata": {},
   "outputs": [],
   "source": [
    "travel=[None]*M\n",
    "for i in range(M):\n",
    "    cn=0\n",
    "    path=max(get[i])\n",
    "    pos=0\n",
    "    if w[i]>0:\n",
    "        cn=dd[s[i]]\n",
    "        then=s[i]+1      ######find the index of demand \n",
    "        if then==20:\n",
    "            if round(cn,2)== round(w[i]+ee[i],2):\n",
    "                travel[i]=then-1\n",
    "                break\n",
    "        cn=cn+d[then]\n",
    "        pos=s[i]+1\n",
    "        #print(pos)\n",
    "        while round(cn,2)< round(w[i]+ee[i],2):\n",
    "            pos=pos+1\n",
    "            #print(pos)\n",
    "            cn=cn+d[pos]\n",
    "        travel[i]=pos"
   ]
  },
  {
   "cell_type": "code",
   "execution_count": 451,
   "metadata": {},
   "outputs": [
    {
     "data": {
      "text/plain": [
       "[9, 14, 19, 19]"
      ]
     },
     "execution_count": 451,
     "metadata": {},
     "output_type": "execute_result"
    }
   ],
   "source": [
    "travel"
   ]
  },
  {
   "cell_type": "code",
   "execution_count": 452,
   "metadata": {},
   "outputs": [
    {
     "data": {
      "text/plain": [
       "[0, 9, 14, 18]"
      ]
     },
     "execution_count": 452,
     "metadata": {},
     "output_type": "execute_result"
    }
   ],
   "source": [
    "s"
   ]
  },
  {
   "cell_type": "code",
   "execution_count": 397,
   "metadata": {},
   "outputs": [
    {
     "ename": "TypeError",
     "evalue": "can only concatenate tuple (not \"int\") to tuple",
     "output_type": "error",
     "traceback": [
      "\u001b[1;31m---------------------------------------------------------------------------\u001b[0m",
      "\u001b[1;31mTypeError\u001b[0m                                 Traceback (most recent call last)",
      "\u001b[1;32m<ipython-input-397-966b82876189>\u001b[0m in \u001b[0;36m<module>\u001b[1;34m\u001b[0m\n\u001b[0;32m      1\u001b[0m \u001b[0ma\u001b[0m\u001b[1;33m=\u001b[0m\u001b[0mtravel\u001b[0m\u001b[1;33m[\u001b[0m\u001b[1;36m0\u001b[0m\u001b[1;33m]\u001b[0m\u001b[1;33m\u001b[0m\u001b[1;33m\u001b[0m\u001b[0m\n\u001b[0;32m      2\u001b[0m \u001b[0mb\u001b[0m\u001b[1;33m=\u001b[0m\u001b[0ms\u001b[0m\u001b[1;33m[\u001b[0m\u001b[1;36m0\u001b[0m\u001b[1;33m]\u001b[0m\u001b[1;33m\u001b[0m\u001b[1;33m\u001b[0m\u001b[0m\n\u001b[1;32m----> 3\u001b[1;33m \u001b[0md\u001b[0m\u001b[1;33m=\u001b[0m\u001b[0mnewd\u001b[0m\u001b[1;33m[\u001b[0m\u001b[0mb\u001b[0m\u001b[1;33m:\u001b[0m\u001b[0ma\u001b[0m\u001b[1;33m]\u001b[0m\u001b[1;33m+\u001b[0m\u001b[1;36m1\u001b[0m\u001b[1;33m\u001b[0m\u001b[1;33m\u001b[0m\u001b[0m\n\u001b[0m",
      "\u001b[1;31mTypeError\u001b[0m: can only concatenate tuple (not \"int\") to tuple"
     ]
    }
   ],
   "source": [
    "\\\\"
   ]
  },
  {
   "cell_type": "code",
   "execution_count": 400,
   "metadata": {},
   "outputs": [
    {
     "data": {
      "text/plain": [
       "6.99053786949686"
      ]
     },
     "execution_count": 400,
     "metadata": {},
     "output_type": "execute_result"
    }
   ],
   "source": [
    "dist[d[0]][d[1]]"
   ]
  },
  {
   "cell_type": "code",
   "execution_count": 402,
   "metadata": {},
   "outputs": [
    {
     "data": {
      "text/plain": [
       "21"
      ]
     },
     "execution_count": 402,
     "metadata": {},
     "output_type": "execute_result"
    }
   ],
   "source": [
    "len(dist2[1])"
   ]
  },
  {
   "cell_type": "code",
   "execution_count": 463,
   "metadata": {},
   "outputs": [],
   "source": [
    "########get distance and route for each veichle \n",
    "out=[None]*M\n",
    "label=newd\n",
    "rt=[]\n",
    "for i in range(M):\n",
    "    d1=0\n",
    "    each=[]\n",
    "    start=s[i]    \n",
    "    end=travel[i]\n",
    "    visit=label[start:end]\n",
    "    for j in range(len(visit)):\n",
    "        if j < len(visit)-1:\n",
    "            d1=d1+dist[j][j+1]\n",
    "    d2=dist2[0][start]+dist2[0][end]\n",
    "    out[i]=d1+d2\n",
    "    each=list(visit)\n",
    "    each.insert(0,0)\n",
    "    each.append(0)\n",
    "    rt.append(each)\n",
    "    \n",
    "    \n",
    "    \n",
    "    \n",
    "    \n",
    "    "
   ]
  },
  {
   "cell_type": "code",
   "execution_count": 464,
   "metadata": {},
   "outputs": [
    {
     "data": {
      "text/plain": [
       "[[0, 2, 9, 14, 16, 5, 11, 8, 3, 18, 0],\n",
       " [0, 1, 7, 13, 19, 17, 0],\n",
       " [0, 10, 0, 15, 6, 12, 0],\n",
       " [0, 12, 0]]"
      ]
     },
     "execution_count": 464,
     "metadata": {},
     "output_type": "execute_result"
    }
   ],
   "source": [
    "rt"
   ]
  },
  {
   "cell_type": "code",
   "execution_count": 465,
   "metadata": {},
   "outputs": [],
   "source": [
    "##########insert the depot position and recalculate the dist matrix\n",
    "test=loc_x\n",
    "test2=loc_y\n",
    "depot=np.array(50)\n",
    "new_x = np.append (depot, test)\n",
    "new_y = np.append (depot, test2)\n",
    "new_x=new_x[0:len(new_x)]\n",
    "new_y=new_y[0:len(new_y)]"
   ]
  },
  {
   "cell_type": "code",
   "execution_count": 466,
   "metadata": {},
   "outputs": [],
   "source": [
    "newdist = np.zeros((len(new_x),len(new_y)))\n",
    "for i in range(len(new_x)):\n",
    "    for j in range(len(new_y)):\n",
    "        dist = math.sqrt((new_x[i]-new_x[j])**2+(new_y[i]-new_y[j])**2)\n",
    "        newdist[i][j] = dist\n",
    "dist2=newdist.tolist()            "
   ]
  },
  {
   "cell_type": "code",
   "execution_count": 471,
   "metadata": {},
   "outputs": [],
   "source": [
    "dem.insert(0,0)"
   ]
  },
  {
   "cell_type": "code",
   "execution_count": null,
   "metadata": {},
   "outputs": [],
   "source": []
  },
  {
   "cell_type": "code",
   "execution_count": 472,
   "metadata": {},
   "outputs": [],
   "source": [
    "############Reoptimization \n",
    "def create_data_model():\n",
    "    \"\"\"Stores the data for the problem.\"\"\"\n",
    "    data = {}\n",
    "    data['distance_matrix'] = dist2\n",
    "    data['num_vehicles'] = 4\n",
    "    data['depot'] = 0\n",
    "    data['demands'] = dem\n",
    "    data['vehicle_capacities'] = cap\n",
    "    \n",
    "    return data"
   ]
  },
  {
   "cell_type": "code",
   "execution_count": 473,
   "metadata": {},
   "outputs": [],
   "source": [
    "def print_solution(data, manager, routing, solution):\n",
    "    \"\"\"Prints solution on console.\"\"\"\n",
    "    print(f'Objective: {solution.ObjectiveValue()}')\n",
    "    total_distance = 0\n",
    "    total_load = 0\n",
    "    for vehicle_id in range(data['num_vehicles']):\n",
    "        index = routing.Start(vehicle_id)\n",
    "        plan_output = 'Route for vehicle {}:\\n'.format(vehicle_id)\n",
    "        route_distance = 0\n",
    "        route_load = 0\n",
    "        while not routing.IsEnd(index):\n",
    "            node_index = manager.IndexToNode(index)\n",
    "            route_load += data['demands'][node_index]\n",
    "            plan_output += ' {0} Load({1}) -> '.format(node_index, route_load)\n",
    "            previous_index = index\n",
    "            index = solution.Value(routing.NextVar(index))\n",
    "            route_distance += routing.GetArcCostForVehicle(\n",
    "                previous_index, index, vehicle_id)\n",
    "        plan_output += ' {0} Load({1})\\n'.format(manager.IndexToNode(index),\n",
    "                                                 route_load)\n",
    "        plan_output += 'Distance of the route: {}m\\n'.format(route_distance)\n",
    "        plan_output += 'Load of the route: {}\\n'.format(route_load)\n",
    "        print(plan_output)\n",
    "        total_distance += route_distance\n",
    "        total_load += route_load\n",
    "    print('Total distance of all routes: {}m'.format(total_distance))\n",
    "    print('Total load of all routes: {}'.format(total_load))"
   ]
  },
  {
   "cell_type": "code",
   "execution_count": 474,
   "metadata": {},
   "outputs": [
    {
     "data": {
      "text/plain": [
       "True"
      ]
     },
     "execution_count": 474,
     "metadata": {},
     "output_type": "execute_result"
    }
   ],
   "source": [
    "data = create_data_model()\n",
    "\n",
    "    # Create the routing index manager.\n",
    "manager = pywrapcp.RoutingIndexManager(len(data['distance_matrix']),data['num_vehicles'], data['depot'])\n",
    "\n",
    "    # Create Routing Model.\n",
    "routing = pywrapcp.RoutingModel(manager)\n",
    "# Create and register a transit callback.\n",
    "def distance_callback(from_index, to_index):\n",
    "    \n",
    "    \"\"\"Returns the distance between the two nodes.\"\"\"\n",
    "    # Convert from routing variable Index to distance matrix NodeIndex.\n",
    "    from_node = manager.IndexToNode(from_index)\n",
    "    to_node = manager.IndexToNode(to_index)\n",
    "    return data['distance_matrix'][from_node][to_node]\n",
    "\n",
    "transit_callback_index = routing.RegisterTransitCallback(distance_callback)\n",
    "\n",
    "    # Define cost of each arc.\n",
    "routing.SetArcCostEvaluatorOfAllVehicles(transit_callback_index)\n",
    "\n",
    "def demand_callback(from_index):\n",
    "    from_node = manager.IndexToNode(from_index)\n",
    "    return data['demands'][from_node]\n",
    "\n",
    "demand_callback_index = routing.RegisterUnaryTransitCallback(demand_callback)\n",
    "routing.AddDimensionWithVehicleCapacity(demand_callback_index, 0,   data['vehicle_capacities'], True,  'Capacity')"
   ]
  },
  {
   "cell_type": "code",
   "execution_count": 475,
   "metadata": {},
   "outputs": [
    {
     "name": "stdout",
     "output_type": "stream",
     "text": [
      "Objective: 581\n",
      "Route for vehicle 0:\n",
      " 0 Load(0) ->  19 Load(1.7077104721592047) ->  2 Load(3.2690695738813744) ->  8 Load(6.895855348800705) ->  14 Load(11.04149041974316) ->  20 Load(18.34813793579153) ->  18 Load(23.327329848873422) ->  0 Load(23.327329848873422)\n",
      "Distance of the route: 149m\n",
      "Load of the route: 23.327329848873422\n",
      "\n",
      "Route for vehicle 1:\n",
      " 0 Load(0) ->  7 Load(5.853407909018795) ->  16 Load(11.310294776186655) ->  11 Load(17.756647440216632) ->  1 Load(19.70765767708785) ->  0 Load(19.70765767708785)\n",
      "Distance of the route: 120m\n",
      "Load of the route: 19.70765767708785\n",
      "\n",
      "Route for vehicle 2:\n",
      " 0 Load(0) ->  6 Load(2.5009800921129575) ->  12 Load(4.711293869052402) ->  9 Load(11.676383212437537) ->  4 Load(17.980119332877724) ->  0 Load(17.980119332877724)\n",
      "Distance of the route: 151m\n",
      "Load of the route: 17.980119332877724\n",
      "\n",
      "Route for vehicle 3:\n",
      " 0 Load(0) ->  13 Load(3.6646564517388134) ->  5 Load(3.9827713457879623) ->  3 Load(7.038911705800923) ->  10 Load(9.946530546734174) ->  15 Load(17.201887550634332) ->  17 Load(21.988751788215552) ->  0 Load(21.988751788215552)\n",
      "Distance of the route: 161m\n",
      "Load of the route: 21.988751788215552\n",
      "\n",
      "Total distance of all routes: 581m\n",
      "Total load of all routes: 83.00385864705454\n"
     ]
    }
   ],
   "source": [
    "search_parameters = pywrapcp.DefaultRoutingSearchParameters()\n",
    "search_parameters.first_solution_strategy = ( routing_enums_pb2.FirstSolutionStrategy.PATH_CHEAPEST_ARC)\n",
    "search_parameters.local_search_metaheuristic = (routing_enums_pb2.LocalSearchMetaheuristic.GUIDED_LOCAL_SEARCH)\n",
    "search_parameters.time_limit.FromSeconds(1)\n",
    "\n",
    "    # Solve the problem.\n",
    "solution = routing.SolveWithParameters(search_parameters)\n",
    "\n",
    "\n",
    "    # Print solution on console.\n",
    "if solution:\n",
    "    print_solution(data, manager, routing, solution)\n"
   ]
  },
  {
   "cell_type": "code",
   "execution_count": 476,
   "metadata": {},
   "outputs": [
    {
     "data": {
      "text/plain": [
       "[633.8986445396627, 393.07863774795146, 373.5898651428695, 65.14484966424256]"
      ]
     },
     "execution_count": 476,
     "metadata": {},
     "output_type": "execute_result"
    }
   ],
   "source": [
    "out"
   ]
  },
  {
   "cell_type": "code",
   "execution_count": null,
   "metadata": {},
   "outputs": [],
   "source": []
  },
  {
   "cell_type": "code",
   "execution_count": null,
   "metadata": {},
   "outputs": [],
   "source": []
  }
 ],
 "metadata": {
  "kernelspec": {
   "display_name": "Python 3",
   "language": "python",
   "name": "python3"
  }
 },
 "nbformat": 4,
 "nbformat_minor": 4
}
